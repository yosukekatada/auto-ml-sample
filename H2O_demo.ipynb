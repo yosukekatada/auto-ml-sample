{
 "cells": [
  {
   "cell_type": "markdown",
   "metadata": {},
   "source": [
    "# H2O.ai AutoML Sample - House Price"
   ]
  },
  {
   "cell_type": "code",
   "execution_count": 1,
   "metadata": {},
   "outputs": [],
   "source": [
    "import h2o\n",
    "from h2o.automl import H2OAutoML"
   ]
  },
  {
   "cell_type": "code",
   "execution_count": 2,
   "metadata": {},
   "outputs": [
    {
     "name": "stdout",
     "output_type": "stream",
     "text": [
      "Checking whether there is an H2O instance running at http://localhost:54321. connected.\n",
      "Warning: Your H2O cluster version is too old (4 months and 10 days)! Please download and install the latest version from http://h2o.ai/download/\n"
     ]
    },
    {
     "data": {
      "text/html": [
       "<div style=\"overflow:auto\"><table style=\"width:50%\"><tr><td>H2O cluster uptime:</td>\n",
       "<td>5 days 8 hours 31 mins</td></tr>\n",
       "<tr><td>H2O cluster timezone:</td>\n",
       "<td>Asia/Tokyo</td></tr>\n",
       "<tr><td>H2O data parsing timezone:</td>\n",
       "<td>UTC</td></tr>\n",
       "<tr><td>H2O cluster version:</td>\n",
       "<td>3.22.1.5</td></tr>\n",
       "<tr><td>H2O cluster version age:</td>\n",
       "<td>4 months and 10 days !!!</td></tr>\n",
       "<tr><td>H2O cluster name:</td>\n",
       "<td>H2O_from_python_ykatada_juw1zw</td></tr>\n",
       "<tr><td>H2O cluster total nodes:</td>\n",
       "<td>1</td></tr>\n",
       "<tr><td>H2O cluster free memory:</td>\n",
       "<td>1.364 Gb</td></tr>\n",
       "<tr><td>H2O cluster total cores:</td>\n",
       "<td>4</td></tr>\n",
       "<tr><td>H2O cluster allowed cores:</td>\n",
       "<td>4</td></tr>\n",
       "<tr><td>H2O cluster status:</td>\n",
       "<td>locked, healthy</td></tr>\n",
       "<tr><td>H2O connection url:</td>\n",
       "<td>http://localhost:54321</td></tr>\n",
       "<tr><td>H2O connection proxy:</td>\n",
       "<td>None</td></tr>\n",
       "<tr><td>H2O internal security:</td>\n",
       "<td>False</td></tr>\n",
       "<tr><td>H2O API Extensions:</td>\n",
       "<td>Amazon S3, XGBoost, Algos, AutoML, Core V3, Core V4</td></tr>\n",
       "<tr><td>Python version:</td>\n",
       "<td>3.6.4 final</td></tr></table></div>"
      ],
      "text/plain": [
       "--------------------------  ---------------------------------------------------\n",
       "H2O cluster uptime:         5 days 8 hours 31 mins\n",
       "H2O cluster timezone:       Asia/Tokyo\n",
       "H2O data parsing timezone:  UTC\n",
       "H2O cluster version:        3.22.1.5\n",
       "H2O cluster version age:    4 months and 10 days !!!\n",
       "H2O cluster name:           H2O_from_python_ykatada_juw1zw\n",
       "H2O cluster total nodes:    1\n",
       "H2O cluster free memory:    1.364 Gb\n",
       "H2O cluster total cores:    4\n",
       "H2O cluster allowed cores:  4\n",
       "H2O cluster status:         locked, healthy\n",
       "H2O connection url:         http://localhost:54321\n",
       "H2O connection proxy:\n",
       "H2O internal security:      False\n",
       "H2O API Extensions:         Amazon S3, XGBoost, Algos, AutoML, Core V3, Core V4\n",
       "Python version:             3.6.4 final\n",
       "--------------------------  ---------------------------------------------------"
      ]
     },
     "metadata": {},
     "output_type": "display_data"
    }
   ],
   "source": [
    "h2o.init()"
   ]
  },
  {
   "cell_type": "markdown",
   "metadata": {},
   "source": [
    "## データの読み込み"
   ]
  },
  {
   "cell_type": "code",
   "execution_count": 3,
   "metadata": {},
   "outputs": [
    {
     "name": "stdout",
     "output_type": "stream",
     "text": [
      "Parse progress: |█████████████████████████████████████████████████████████| 100%\n",
      "Parse progress: |█████████████████████████████████████████████████████████| 100%\n"
     ]
    }
   ],
   "source": [
    "train = h2o.import_file(\"train.csv\")\n",
    "test = h2o.import_file(\"test.csv\")"
   ]
  },
  {
   "cell_type": "markdown",
   "metadata": {},
   "source": [
    "## 目的変数と特徴量を定義する"
   ]
  },
  {
   "cell_type": "code",
   "execution_count": 4,
   "metadata": {},
   "outputs": [
    {
     "data": {
      "text/html": [
       "<table>\n",
       "<thead>\n",
       "<tr><th style=\"text-align: right;\">  Id</th><th style=\"text-align: right;\">  MSSubClass</th><th>MSZoning  </th><th style=\"text-align: right;\">  LotFrontage</th><th style=\"text-align: right;\">  LotArea</th><th>Street  </th><th>Alley  </th><th>LotShape  </th><th>LandContour  </th><th>Utilities  </th><th>LotConfig  </th><th>LandSlope  </th><th>Neighborhood  </th><th>Condition1  </th><th>Condition2  </th><th>BldgType  </th><th>HouseStyle  </th><th style=\"text-align: right;\">  OverallQual</th><th style=\"text-align: right;\">  OverallCond</th><th style=\"text-align: right;\">  YearBuilt</th><th style=\"text-align: right;\">  YearRemodAdd</th><th>RoofStyle  </th><th>RoofMatl  </th><th>Exterior1st  </th><th>Exterior2nd  </th><th>MasVnrType  </th><th style=\"text-align: right;\">  MasVnrArea</th><th>ExterQual  </th><th>ExterCond  </th><th>Foundation  </th><th>BsmtQual  </th><th>BsmtCond  </th><th>BsmtExposure  </th><th>BsmtFinType1  </th><th style=\"text-align: right;\">  BsmtFinSF1</th><th>BsmtFinType2  </th><th style=\"text-align: right;\">  BsmtFinSF2</th><th style=\"text-align: right;\">  BsmtUnfSF</th><th style=\"text-align: right;\">  TotalBsmtSF</th><th>Heating  </th><th>HeatingQC  </th><th>CentralAir  </th><th>Electrical  </th><th style=\"text-align: right;\">  1stFlrSF</th><th style=\"text-align: right;\">  2ndFlrSF</th><th style=\"text-align: right;\">  LowQualFinSF</th><th style=\"text-align: right;\">  GrLivArea</th><th style=\"text-align: right;\">  BsmtFullBath</th><th style=\"text-align: right;\">  BsmtHalfBath</th><th style=\"text-align: right;\">  FullBath</th><th style=\"text-align: right;\">  HalfBath</th><th style=\"text-align: right;\">  BedroomAbvGr</th><th style=\"text-align: right;\">  KitchenAbvGr</th><th>KitchenQual  </th><th style=\"text-align: right;\">  TotRmsAbvGrd</th><th>Functional  </th><th style=\"text-align: right;\">  Fireplaces</th><th>FireplaceQu  </th><th>GarageType  </th><th style=\"text-align: right;\">  GarageYrBlt</th><th>GarageFinish  </th><th style=\"text-align: right;\">  GarageCars</th><th style=\"text-align: right;\">  GarageArea</th><th>GarageQual  </th><th>GarageCond  </th><th>PavedDrive  </th><th style=\"text-align: right;\">  WoodDeckSF</th><th style=\"text-align: right;\">  OpenPorchSF</th><th style=\"text-align: right;\">  EnclosedPorch</th><th style=\"text-align: right;\">  3SsnPorch</th><th style=\"text-align: right;\">  ScreenPorch</th><th style=\"text-align: right;\">  PoolArea</th><th>PoolQC  </th><th>Fence  </th><th>MiscFeature  </th><th style=\"text-align: right;\">  MiscVal</th><th style=\"text-align: right;\">  MoSold</th><th style=\"text-align: right;\">  YrSold</th><th>SaleType  </th><th>SaleCondition  </th><th style=\"text-align: right;\">  SalePrice</th></tr>\n",
       "</thead>\n",
       "<tbody>\n",
       "<tr><td style=\"text-align: right;\">   1</td><td style=\"text-align: right;\">          60</td><td>RL        </td><td style=\"text-align: right;\">           65</td><td style=\"text-align: right;\">     8450</td><td>Pave    </td><td>NA     </td><td>Reg       </td><td>Lvl          </td><td>AllPub     </td><td>Inside     </td><td>Gtl        </td><td>CollgCr       </td><td>Norm        </td><td>Norm        </td><td>1Fam      </td><td>2Story      </td><td style=\"text-align: right;\">            7</td><td style=\"text-align: right;\">            5</td><td style=\"text-align: right;\">       2003</td><td style=\"text-align: right;\">          2003</td><td>Gable      </td><td>CompShg   </td><td>VinylSd      </td><td>VinylSd      </td><td>BrkFace     </td><td style=\"text-align: right;\">         196</td><td>Gd         </td><td>TA         </td><td>PConc       </td><td>Gd        </td><td>TA        </td><td>No            </td><td>GLQ           </td><td style=\"text-align: right;\">         706</td><td>Unf           </td><td style=\"text-align: right;\">           0</td><td style=\"text-align: right;\">        150</td><td style=\"text-align: right;\">          856</td><td>GasA     </td><td>Ex         </td><td>Y           </td><td>SBrkr       </td><td style=\"text-align: right;\">       856</td><td style=\"text-align: right;\">       854</td><td style=\"text-align: right;\">             0</td><td style=\"text-align: right;\">       1710</td><td style=\"text-align: right;\">             1</td><td style=\"text-align: right;\">             0</td><td style=\"text-align: right;\">         2</td><td style=\"text-align: right;\">         1</td><td style=\"text-align: right;\">             3</td><td style=\"text-align: right;\">             1</td><td>Gd           </td><td style=\"text-align: right;\">             8</td><td>Typ         </td><td style=\"text-align: right;\">           0</td><td>NA           </td><td>Attchd      </td><td style=\"text-align: right;\">         2003</td><td>RFn           </td><td style=\"text-align: right;\">           2</td><td style=\"text-align: right;\">         548</td><td>TA          </td><td>TA          </td><td>Y           </td><td style=\"text-align: right;\">           0</td><td style=\"text-align: right;\">           61</td><td style=\"text-align: right;\">              0</td><td style=\"text-align: right;\">          0</td><td style=\"text-align: right;\">            0</td><td style=\"text-align: right;\">         0</td><td>NA      </td><td>NA     </td><td>NA           </td><td style=\"text-align: right;\">        0</td><td style=\"text-align: right;\">       2</td><td style=\"text-align: right;\">    2008</td><td>WD        </td><td>Normal         </td><td style=\"text-align: right;\">     208500</td></tr>\n",
       "<tr><td style=\"text-align: right;\">   2</td><td style=\"text-align: right;\">          20</td><td>RL        </td><td style=\"text-align: right;\">           80</td><td style=\"text-align: right;\">     9600</td><td>Pave    </td><td>NA     </td><td>Reg       </td><td>Lvl          </td><td>AllPub     </td><td>FR2        </td><td>Gtl        </td><td>Veenker       </td><td>Feedr       </td><td>Norm        </td><td>1Fam      </td><td>1Story      </td><td style=\"text-align: right;\">            6</td><td style=\"text-align: right;\">            8</td><td style=\"text-align: right;\">       1976</td><td style=\"text-align: right;\">          1976</td><td>Gable      </td><td>CompShg   </td><td>MetalSd      </td><td>MetalSd      </td><td>None        </td><td style=\"text-align: right;\">           0</td><td>TA         </td><td>TA         </td><td>CBlock      </td><td>Gd        </td><td>TA        </td><td>Gd            </td><td>ALQ           </td><td style=\"text-align: right;\">         978</td><td>Unf           </td><td style=\"text-align: right;\">           0</td><td style=\"text-align: right;\">        284</td><td style=\"text-align: right;\">         1262</td><td>GasA     </td><td>Ex         </td><td>Y           </td><td>SBrkr       </td><td style=\"text-align: right;\">      1262</td><td style=\"text-align: right;\">         0</td><td style=\"text-align: right;\">             0</td><td style=\"text-align: right;\">       1262</td><td style=\"text-align: right;\">             0</td><td style=\"text-align: right;\">             1</td><td style=\"text-align: right;\">         2</td><td style=\"text-align: right;\">         0</td><td style=\"text-align: right;\">             3</td><td style=\"text-align: right;\">             1</td><td>TA           </td><td style=\"text-align: right;\">             6</td><td>Typ         </td><td style=\"text-align: right;\">           1</td><td>TA           </td><td>Attchd      </td><td style=\"text-align: right;\">         1976</td><td>RFn           </td><td style=\"text-align: right;\">           2</td><td style=\"text-align: right;\">         460</td><td>TA          </td><td>TA          </td><td>Y           </td><td style=\"text-align: right;\">         298</td><td style=\"text-align: right;\">            0</td><td style=\"text-align: right;\">              0</td><td style=\"text-align: right;\">          0</td><td style=\"text-align: right;\">            0</td><td style=\"text-align: right;\">         0</td><td>NA      </td><td>NA     </td><td>NA           </td><td style=\"text-align: right;\">        0</td><td style=\"text-align: right;\">       5</td><td style=\"text-align: right;\">    2007</td><td>WD        </td><td>Normal         </td><td style=\"text-align: right;\">     181500</td></tr>\n",
       "<tr><td style=\"text-align: right;\">   3</td><td style=\"text-align: right;\">          60</td><td>RL        </td><td style=\"text-align: right;\">           68</td><td style=\"text-align: right;\">    11250</td><td>Pave    </td><td>NA     </td><td>IR1       </td><td>Lvl          </td><td>AllPub     </td><td>Inside     </td><td>Gtl        </td><td>CollgCr       </td><td>Norm        </td><td>Norm        </td><td>1Fam      </td><td>2Story      </td><td style=\"text-align: right;\">            7</td><td style=\"text-align: right;\">            5</td><td style=\"text-align: right;\">       2001</td><td style=\"text-align: right;\">          2002</td><td>Gable      </td><td>CompShg   </td><td>VinylSd      </td><td>VinylSd      </td><td>BrkFace     </td><td style=\"text-align: right;\">         162</td><td>Gd         </td><td>TA         </td><td>PConc       </td><td>Gd        </td><td>TA        </td><td>Mn            </td><td>GLQ           </td><td style=\"text-align: right;\">         486</td><td>Unf           </td><td style=\"text-align: right;\">           0</td><td style=\"text-align: right;\">        434</td><td style=\"text-align: right;\">          920</td><td>GasA     </td><td>Ex         </td><td>Y           </td><td>SBrkr       </td><td style=\"text-align: right;\">       920</td><td style=\"text-align: right;\">       866</td><td style=\"text-align: right;\">             0</td><td style=\"text-align: right;\">       1786</td><td style=\"text-align: right;\">             1</td><td style=\"text-align: right;\">             0</td><td style=\"text-align: right;\">         2</td><td style=\"text-align: right;\">         1</td><td style=\"text-align: right;\">             3</td><td style=\"text-align: right;\">             1</td><td>Gd           </td><td style=\"text-align: right;\">             6</td><td>Typ         </td><td style=\"text-align: right;\">           1</td><td>TA           </td><td>Attchd      </td><td style=\"text-align: right;\">         2001</td><td>RFn           </td><td style=\"text-align: right;\">           2</td><td style=\"text-align: right;\">         608</td><td>TA          </td><td>TA          </td><td>Y           </td><td style=\"text-align: right;\">           0</td><td style=\"text-align: right;\">           42</td><td style=\"text-align: right;\">              0</td><td style=\"text-align: right;\">          0</td><td style=\"text-align: right;\">            0</td><td style=\"text-align: right;\">         0</td><td>NA      </td><td>NA     </td><td>NA           </td><td style=\"text-align: right;\">        0</td><td style=\"text-align: right;\">       9</td><td style=\"text-align: right;\">    2008</td><td>WD        </td><td>Normal         </td><td style=\"text-align: right;\">     223500</td></tr>\n",
       "<tr><td style=\"text-align: right;\">   4</td><td style=\"text-align: right;\">          70</td><td>RL        </td><td style=\"text-align: right;\">           60</td><td style=\"text-align: right;\">     9550</td><td>Pave    </td><td>NA     </td><td>IR1       </td><td>Lvl          </td><td>AllPub     </td><td>Corner     </td><td>Gtl        </td><td>Crawfor       </td><td>Norm        </td><td>Norm        </td><td>1Fam      </td><td>2Story      </td><td style=\"text-align: right;\">            7</td><td style=\"text-align: right;\">            5</td><td style=\"text-align: right;\">       1915</td><td style=\"text-align: right;\">          1970</td><td>Gable      </td><td>CompShg   </td><td>Wd Sdng      </td><td>Wd Shng      </td><td>None        </td><td style=\"text-align: right;\">           0</td><td>TA         </td><td>TA         </td><td>BrkTil      </td><td>TA        </td><td>Gd        </td><td>No            </td><td>ALQ           </td><td style=\"text-align: right;\">         216</td><td>Unf           </td><td style=\"text-align: right;\">           0</td><td style=\"text-align: right;\">        540</td><td style=\"text-align: right;\">          756</td><td>GasA     </td><td>Gd         </td><td>Y           </td><td>SBrkr       </td><td style=\"text-align: right;\">       961</td><td style=\"text-align: right;\">       756</td><td style=\"text-align: right;\">             0</td><td style=\"text-align: right;\">       1717</td><td style=\"text-align: right;\">             1</td><td style=\"text-align: right;\">             0</td><td style=\"text-align: right;\">         1</td><td style=\"text-align: right;\">         0</td><td style=\"text-align: right;\">             3</td><td style=\"text-align: right;\">             1</td><td>Gd           </td><td style=\"text-align: right;\">             7</td><td>Typ         </td><td style=\"text-align: right;\">           1</td><td>Gd           </td><td>Detchd      </td><td style=\"text-align: right;\">         1998</td><td>Unf           </td><td style=\"text-align: right;\">           3</td><td style=\"text-align: right;\">         642</td><td>TA          </td><td>TA          </td><td>Y           </td><td style=\"text-align: right;\">           0</td><td style=\"text-align: right;\">           35</td><td style=\"text-align: right;\">            272</td><td style=\"text-align: right;\">          0</td><td style=\"text-align: right;\">            0</td><td style=\"text-align: right;\">         0</td><td>NA      </td><td>NA     </td><td>NA           </td><td style=\"text-align: right;\">        0</td><td style=\"text-align: right;\">       2</td><td style=\"text-align: right;\">    2006</td><td>WD        </td><td>Abnorml        </td><td style=\"text-align: right;\">     140000</td></tr>\n",
       "<tr><td style=\"text-align: right;\">   5</td><td style=\"text-align: right;\">          60</td><td>RL        </td><td style=\"text-align: right;\">           84</td><td style=\"text-align: right;\">    14260</td><td>Pave    </td><td>NA     </td><td>IR1       </td><td>Lvl          </td><td>AllPub     </td><td>FR2        </td><td>Gtl        </td><td>NoRidge       </td><td>Norm        </td><td>Norm        </td><td>1Fam      </td><td>2Story      </td><td style=\"text-align: right;\">            8</td><td style=\"text-align: right;\">            5</td><td style=\"text-align: right;\">       2000</td><td style=\"text-align: right;\">          2000</td><td>Gable      </td><td>CompShg   </td><td>VinylSd      </td><td>VinylSd      </td><td>BrkFace     </td><td style=\"text-align: right;\">         350</td><td>Gd         </td><td>TA         </td><td>PConc       </td><td>Gd        </td><td>TA        </td><td>Av            </td><td>GLQ           </td><td style=\"text-align: right;\">         655</td><td>Unf           </td><td style=\"text-align: right;\">           0</td><td style=\"text-align: right;\">        490</td><td style=\"text-align: right;\">         1145</td><td>GasA     </td><td>Ex         </td><td>Y           </td><td>SBrkr       </td><td style=\"text-align: right;\">      1145</td><td style=\"text-align: right;\">      1053</td><td style=\"text-align: right;\">             0</td><td style=\"text-align: right;\">       2198</td><td style=\"text-align: right;\">             1</td><td style=\"text-align: right;\">             0</td><td style=\"text-align: right;\">         2</td><td style=\"text-align: right;\">         1</td><td style=\"text-align: right;\">             4</td><td style=\"text-align: right;\">             1</td><td>Gd           </td><td style=\"text-align: right;\">             9</td><td>Typ         </td><td style=\"text-align: right;\">           1</td><td>TA           </td><td>Attchd      </td><td style=\"text-align: right;\">         2000</td><td>RFn           </td><td style=\"text-align: right;\">           3</td><td style=\"text-align: right;\">         836</td><td>TA          </td><td>TA          </td><td>Y           </td><td style=\"text-align: right;\">         192</td><td style=\"text-align: right;\">           84</td><td style=\"text-align: right;\">              0</td><td style=\"text-align: right;\">          0</td><td style=\"text-align: right;\">            0</td><td style=\"text-align: right;\">         0</td><td>NA      </td><td>NA     </td><td>NA           </td><td style=\"text-align: right;\">        0</td><td style=\"text-align: right;\">      12</td><td style=\"text-align: right;\">    2008</td><td>WD        </td><td>Normal         </td><td style=\"text-align: right;\">     250000</td></tr>\n",
       "<tr><td style=\"text-align: right;\">   6</td><td style=\"text-align: right;\">          50</td><td>RL        </td><td style=\"text-align: right;\">           85</td><td style=\"text-align: right;\">    14115</td><td>Pave    </td><td>NA     </td><td>IR1       </td><td>Lvl          </td><td>AllPub     </td><td>Inside     </td><td>Gtl        </td><td>Mitchel       </td><td>Norm        </td><td>Norm        </td><td>1Fam      </td><td>1.5Fin      </td><td style=\"text-align: right;\">            5</td><td style=\"text-align: right;\">            5</td><td style=\"text-align: right;\">       1993</td><td style=\"text-align: right;\">          1995</td><td>Gable      </td><td>CompShg   </td><td>VinylSd      </td><td>VinylSd      </td><td>None        </td><td style=\"text-align: right;\">           0</td><td>TA         </td><td>TA         </td><td>Wood        </td><td>Gd        </td><td>TA        </td><td>No            </td><td>GLQ           </td><td style=\"text-align: right;\">         732</td><td>Unf           </td><td style=\"text-align: right;\">           0</td><td style=\"text-align: right;\">         64</td><td style=\"text-align: right;\">          796</td><td>GasA     </td><td>Ex         </td><td>Y           </td><td>SBrkr       </td><td style=\"text-align: right;\">       796</td><td style=\"text-align: right;\">       566</td><td style=\"text-align: right;\">             0</td><td style=\"text-align: right;\">       1362</td><td style=\"text-align: right;\">             1</td><td style=\"text-align: right;\">             0</td><td style=\"text-align: right;\">         1</td><td style=\"text-align: right;\">         1</td><td style=\"text-align: right;\">             1</td><td style=\"text-align: right;\">             1</td><td>TA           </td><td style=\"text-align: right;\">             5</td><td>Typ         </td><td style=\"text-align: right;\">           0</td><td>NA           </td><td>Attchd      </td><td style=\"text-align: right;\">         1993</td><td>Unf           </td><td style=\"text-align: right;\">           2</td><td style=\"text-align: right;\">         480</td><td>TA          </td><td>TA          </td><td>Y           </td><td style=\"text-align: right;\">          40</td><td style=\"text-align: right;\">           30</td><td style=\"text-align: right;\">              0</td><td style=\"text-align: right;\">        320</td><td style=\"text-align: right;\">            0</td><td style=\"text-align: right;\">         0</td><td>NA      </td><td>MnPrv  </td><td>Shed         </td><td style=\"text-align: right;\">      700</td><td style=\"text-align: right;\">      10</td><td style=\"text-align: right;\">    2009</td><td>WD        </td><td>Normal         </td><td style=\"text-align: right;\">     143000</td></tr>\n",
       "<tr><td style=\"text-align: right;\">   7</td><td style=\"text-align: right;\">          20</td><td>RL        </td><td style=\"text-align: right;\">           75</td><td style=\"text-align: right;\">    10084</td><td>Pave    </td><td>NA     </td><td>Reg       </td><td>Lvl          </td><td>AllPub     </td><td>Inside     </td><td>Gtl        </td><td>Somerst       </td><td>Norm        </td><td>Norm        </td><td>1Fam      </td><td>1Story      </td><td style=\"text-align: right;\">            8</td><td style=\"text-align: right;\">            5</td><td style=\"text-align: right;\">       2004</td><td style=\"text-align: right;\">          2005</td><td>Gable      </td><td>CompShg   </td><td>VinylSd      </td><td>VinylSd      </td><td>Stone       </td><td style=\"text-align: right;\">         186</td><td>Gd         </td><td>TA         </td><td>PConc       </td><td>Ex        </td><td>TA        </td><td>Av            </td><td>GLQ           </td><td style=\"text-align: right;\">        1369</td><td>Unf           </td><td style=\"text-align: right;\">           0</td><td style=\"text-align: right;\">        317</td><td style=\"text-align: right;\">         1686</td><td>GasA     </td><td>Ex         </td><td>Y           </td><td>SBrkr       </td><td style=\"text-align: right;\">      1694</td><td style=\"text-align: right;\">         0</td><td style=\"text-align: right;\">             0</td><td style=\"text-align: right;\">       1694</td><td style=\"text-align: right;\">             1</td><td style=\"text-align: right;\">             0</td><td style=\"text-align: right;\">         2</td><td style=\"text-align: right;\">         0</td><td style=\"text-align: right;\">             3</td><td style=\"text-align: right;\">             1</td><td>Gd           </td><td style=\"text-align: right;\">             7</td><td>Typ         </td><td style=\"text-align: right;\">           1</td><td>Gd           </td><td>Attchd      </td><td style=\"text-align: right;\">         2004</td><td>RFn           </td><td style=\"text-align: right;\">           2</td><td style=\"text-align: right;\">         636</td><td>TA          </td><td>TA          </td><td>Y           </td><td style=\"text-align: right;\">         255</td><td style=\"text-align: right;\">           57</td><td style=\"text-align: right;\">              0</td><td style=\"text-align: right;\">          0</td><td style=\"text-align: right;\">            0</td><td style=\"text-align: right;\">         0</td><td>NA      </td><td>NA     </td><td>NA           </td><td style=\"text-align: right;\">        0</td><td style=\"text-align: right;\">       8</td><td style=\"text-align: right;\">    2007</td><td>WD        </td><td>Normal         </td><td style=\"text-align: right;\">     307000</td></tr>\n",
       "<tr><td style=\"text-align: right;\">   8</td><td style=\"text-align: right;\">          60</td><td>RL        </td><td style=\"text-align: right;\">          nan</td><td style=\"text-align: right;\">    10382</td><td>Pave    </td><td>NA     </td><td>IR1       </td><td>Lvl          </td><td>AllPub     </td><td>Corner     </td><td>Gtl        </td><td>NWAmes        </td><td>PosN        </td><td>Norm        </td><td>1Fam      </td><td>2Story      </td><td style=\"text-align: right;\">            7</td><td style=\"text-align: right;\">            6</td><td style=\"text-align: right;\">       1973</td><td style=\"text-align: right;\">          1973</td><td>Gable      </td><td>CompShg   </td><td>HdBoard      </td><td>HdBoard      </td><td>Stone       </td><td style=\"text-align: right;\">         240</td><td>TA         </td><td>TA         </td><td>CBlock      </td><td>Gd        </td><td>TA        </td><td>Mn            </td><td>ALQ           </td><td style=\"text-align: right;\">         859</td><td>BLQ           </td><td style=\"text-align: right;\">          32</td><td style=\"text-align: right;\">        216</td><td style=\"text-align: right;\">         1107</td><td>GasA     </td><td>Ex         </td><td>Y           </td><td>SBrkr       </td><td style=\"text-align: right;\">      1107</td><td style=\"text-align: right;\">       983</td><td style=\"text-align: right;\">             0</td><td style=\"text-align: right;\">       2090</td><td style=\"text-align: right;\">             1</td><td style=\"text-align: right;\">             0</td><td style=\"text-align: right;\">         2</td><td style=\"text-align: right;\">         1</td><td style=\"text-align: right;\">             3</td><td style=\"text-align: right;\">             1</td><td>TA           </td><td style=\"text-align: right;\">             7</td><td>Typ         </td><td style=\"text-align: right;\">           2</td><td>TA           </td><td>Attchd      </td><td style=\"text-align: right;\">         1973</td><td>RFn           </td><td style=\"text-align: right;\">           2</td><td style=\"text-align: right;\">         484</td><td>TA          </td><td>TA          </td><td>Y           </td><td style=\"text-align: right;\">         235</td><td style=\"text-align: right;\">          204</td><td style=\"text-align: right;\">            228</td><td style=\"text-align: right;\">          0</td><td style=\"text-align: right;\">            0</td><td style=\"text-align: right;\">         0</td><td>NA      </td><td>NA     </td><td>Shed         </td><td style=\"text-align: right;\">      350</td><td style=\"text-align: right;\">      11</td><td style=\"text-align: right;\">    2009</td><td>WD        </td><td>Normal         </td><td style=\"text-align: right;\">     200000</td></tr>\n",
       "<tr><td style=\"text-align: right;\">   9</td><td style=\"text-align: right;\">          50</td><td>RM        </td><td style=\"text-align: right;\">           51</td><td style=\"text-align: right;\">     6120</td><td>Pave    </td><td>NA     </td><td>Reg       </td><td>Lvl          </td><td>AllPub     </td><td>Inside     </td><td>Gtl        </td><td>OldTown       </td><td>Artery      </td><td>Norm        </td><td>1Fam      </td><td>1.5Fin      </td><td style=\"text-align: right;\">            7</td><td style=\"text-align: right;\">            5</td><td style=\"text-align: right;\">       1931</td><td style=\"text-align: right;\">          1950</td><td>Gable      </td><td>CompShg   </td><td>BrkFace      </td><td>Wd Shng      </td><td>None        </td><td style=\"text-align: right;\">           0</td><td>TA         </td><td>TA         </td><td>BrkTil      </td><td>TA        </td><td>TA        </td><td>No            </td><td>Unf           </td><td style=\"text-align: right;\">           0</td><td>Unf           </td><td style=\"text-align: right;\">           0</td><td style=\"text-align: right;\">        952</td><td style=\"text-align: right;\">          952</td><td>GasA     </td><td>Gd         </td><td>Y           </td><td>FuseF       </td><td style=\"text-align: right;\">      1022</td><td style=\"text-align: right;\">       752</td><td style=\"text-align: right;\">             0</td><td style=\"text-align: right;\">       1774</td><td style=\"text-align: right;\">             0</td><td style=\"text-align: right;\">             0</td><td style=\"text-align: right;\">         2</td><td style=\"text-align: right;\">         0</td><td style=\"text-align: right;\">             2</td><td style=\"text-align: right;\">             2</td><td>TA           </td><td style=\"text-align: right;\">             8</td><td>Min1        </td><td style=\"text-align: right;\">           2</td><td>TA           </td><td>Detchd      </td><td style=\"text-align: right;\">         1931</td><td>Unf           </td><td style=\"text-align: right;\">           2</td><td style=\"text-align: right;\">         468</td><td>Fa          </td><td>TA          </td><td>Y           </td><td style=\"text-align: right;\">          90</td><td style=\"text-align: right;\">            0</td><td style=\"text-align: right;\">            205</td><td style=\"text-align: right;\">          0</td><td style=\"text-align: right;\">            0</td><td style=\"text-align: right;\">         0</td><td>NA      </td><td>NA     </td><td>NA           </td><td style=\"text-align: right;\">        0</td><td style=\"text-align: right;\">       4</td><td style=\"text-align: right;\">    2008</td><td>WD        </td><td>Abnorml        </td><td style=\"text-align: right;\">     129900</td></tr>\n",
       "<tr><td style=\"text-align: right;\">  10</td><td style=\"text-align: right;\">         190</td><td>RL        </td><td style=\"text-align: right;\">           50</td><td style=\"text-align: right;\">     7420</td><td>Pave    </td><td>NA     </td><td>Reg       </td><td>Lvl          </td><td>AllPub     </td><td>Corner     </td><td>Gtl        </td><td>BrkSide       </td><td>Artery      </td><td>Artery      </td><td>2fmCon    </td><td>1.5Unf      </td><td style=\"text-align: right;\">            5</td><td style=\"text-align: right;\">            6</td><td style=\"text-align: right;\">       1939</td><td style=\"text-align: right;\">          1950</td><td>Gable      </td><td>CompShg   </td><td>MetalSd      </td><td>MetalSd      </td><td>None        </td><td style=\"text-align: right;\">           0</td><td>TA         </td><td>TA         </td><td>BrkTil      </td><td>TA        </td><td>TA        </td><td>No            </td><td>GLQ           </td><td style=\"text-align: right;\">         851</td><td>Unf           </td><td style=\"text-align: right;\">           0</td><td style=\"text-align: right;\">        140</td><td style=\"text-align: right;\">          991</td><td>GasA     </td><td>Ex         </td><td>Y           </td><td>SBrkr       </td><td style=\"text-align: right;\">      1077</td><td style=\"text-align: right;\">         0</td><td style=\"text-align: right;\">             0</td><td style=\"text-align: right;\">       1077</td><td style=\"text-align: right;\">             1</td><td style=\"text-align: right;\">             0</td><td style=\"text-align: right;\">         1</td><td style=\"text-align: right;\">         0</td><td style=\"text-align: right;\">             2</td><td style=\"text-align: right;\">             2</td><td>TA           </td><td style=\"text-align: right;\">             5</td><td>Typ         </td><td style=\"text-align: right;\">           2</td><td>TA           </td><td>Attchd      </td><td style=\"text-align: right;\">         1939</td><td>RFn           </td><td style=\"text-align: right;\">           1</td><td style=\"text-align: right;\">         205</td><td>Gd          </td><td>TA          </td><td>Y           </td><td style=\"text-align: right;\">           0</td><td style=\"text-align: right;\">            4</td><td style=\"text-align: right;\">              0</td><td style=\"text-align: right;\">          0</td><td style=\"text-align: right;\">            0</td><td style=\"text-align: right;\">         0</td><td>NA      </td><td>NA     </td><td>NA           </td><td style=\"text-align: right;\">        0</td><td style=\"text-align: right;\">       1</td><td style=\"text-align: right;\">    2008</td><td>WD        </td><td>Normal         </td><td style=\"text-align: right;\">     118000</td></tr>\n",
       "</tbody>\n",
       "</table>"
      ]
     },
     "metadata": {},
     "output_type": "display_data"
    },
    {
     "data": {
      "text/plain": []
     },
     "execution_count": 4,
     "metadata": {},
     "output_type": "execute_result"
    }
   ],
   "source": [
    "train.head()"
   ]
  },
  {
   "cell_type": "code",
   "execution_count": 5,
   "metadata": {},
   "outputs": [],
   "source": [
    "exclude_cols = [\"Id\", \"SalePrice\"]\n",
    "x = [colnames for colnames in train.col_names if colnames not in exclude_cols]"
   ]
  },
  {
   "cell_type": "code",
   "execution_count": 6,
   "metadata": {},
   "outputs": [],
   "source": [
    "y = \"SalePrice\""
   ]
  },
  {
   "cell_type": "markdown",
   "metadata": {},
   "source": [
    "## AutoML 始動！(10~20分くらいはかかる）"
   ]
  },
  {
   "cell_type": "code",
   "execution_count": 7,
   "metadata": {},
   "outputs": [
    {
     "name": "stdout",
     "output_type": "stream",
     "text": [
      "AutoML progress: |████████████████████████████████████████████████████████| 100%\n"
     ]
    }
   ],
   "source": [
    "aml = H2OAutoML(max_models=20, seed=1)\n",
    "aml.train(x=x, y=y, training_frame=train)"
   ]
  },
  {
   "cell_type": "markdown",
   "metadata": {},
   "source": [
    "## Leader Boardを確認"
   ]
  },
  {
   "cell_type": "code",
   "execution_count": 8,
   "metadata": {},
   "outputs": [
    {
     "data": {
      "text/html": [
       "<table>\n",
       "<thead>\n",
       "<tr><th>model_id                                           </th><th style=\"text-align: right;\">  mean_residual_deviance</th><th style=\"text-align: right;\">   rmse</th><th style=\"text-align: right;\">        mse</th><th style=\"text-align: right;\">    mae</th><th style=\"text-align: right;\">   rmsle</th></tr>\n",
       "</thead>\n",
       "<tbody>\n",
       "<tr><td>GBM_1_AutoML_20190715_012801                       </td><td style=\"text-align: right;\">             7.53423e+08</td><td style=\"text-align: right;\">27448.5</td><td style=\"text-align: right;\">7.53423e+08</td><td style=\"text-align: right;\">16056.3</td><td style=\"text-align: right;\">0.13373 </td></tr>\n",
       "<tr><td>GBM_2_AutoML_20190715_012801                       </td><td style=\"text-align: right;\">             7.64293e+08</td><td style=\"text-align: right;\">27645.8</td><td style=\"text-align: right;\">7.64293e+08</td><td style=\"text-align: right;\">16052.1</td><td style=\"text-align: right;\">0.132311</td></tr>\n",
       "<tr><td>XGBoost_grid_1_AutoML_20190715_012801_model_3      </td><td style=\"text-align: right;\">             7.75758e+08</td><td style=\"text-align: right;\">27852.4</td><td style=\"text-align: right;\">7.75758e+08</td><td style=\"text-align: right;\">15810.2</td><td style=\"text-align: right;\">0.129437</td></tr>\n",
       "<tr><td>GBM_3_AutoML_20190715_012801                       </td><td style=\"text-align: right;\">             7.85058e+08</td><td style=\"text-align: right;\">28018.9</td><td style=\"text-align: right;\">7.85058e+08</td><td style=\"text-align: right;\">16336.6</td><td style=\"text-align: right;\">0.134115</td></tr>\n",
       "<tr><td>GBM_4_AutoML_20190715_012801                       </td><td style=\"text-align: right;\">             7.91029e+08</td><td style=\"text-align: right;\">28125.2</td><td style=\"text-align: right;\">7.91029e+08</td><td style=\"text-align: right;\">16321.2</td><td style=\"text-align: right;\">0.135121</td></tr>\n",
       "<tr><td>XGBoost_3_AutoML_20190715_012801                   </td><td style=\"text-align: right;\">             7.93535e+08</td><td style=\"text-align: right;\">28169.8</td><td style=\"text-align: right;\">7.93535e+08</td><td style=\"text-align: right;\">15862.1</td><td style=\"text-align: right;\">0.13142 </td></tr>\n",
       "<tr><td>XGBoost_grid_1_AutoML_20190715_012801_model_2      </td><td style=\"text-align: right;\">             8.46884e+08</td><td style=\"text-align: right;\">29101.3</td><td style=\"text-align: right;\">8.46884e+08</td><td style=\"text-align: right;\">16412.9</td><td style=\"text-align: right;\">0.139372</td></tr>\n",
       "<tr><td>XGBoost_2_AutoML_20190715_012801                   </td><td style=\"text-align: right;\">             8.65157e+08</td><td style=\"text-align: right;\">29413.5</td><td style=\"text-align: right;\">8.65157e+08</td><td style=\"text-align: right;\">16123.2</td><td style=\"text-align: right;\">0.13322 </td></tr>\n",
       "<tr><td>XGBoost_1_AutoML_20190715_012801                   </td><td style=\"text-align: right;\">             8.72546e+08</td><td style=\"text-align: right;\">29538.9</td><td style=\"text-align: right;\">8.72546e+08</td><td style=\"text-align: right;\">15905.5</td><td style=\"text-align: right;\">0.133657</td></tr>\n",
       "<tr><td>GBM_grid_1_AutoML_20190715_012801_model_1          </td><td style=\"text-align: right;\">             8.77276e+08</td><td style=\"text-align: right;\">29618.8</td><td style=\"text-align: right;\">8.77276e+08</td><td style=\"text-align: right;\">17012.6</td><td style=\"text-align: right;\">0.141728</td></tr>\n",
       "<tr><td>XGBoost_grid_1_AutoML_20190715_012801_model_4      </td><td style=\"text-align: right;\">             9.20116e+08</td><td style=\"text-align: right;\">30333.4</td><td style=\"text-align: right;\">9.20116e+08</td><td style=\"text-align: right;\">16330  </td><td style=\"text-align: right;\">0.13782 </td></tr>\n",
       "<tr><td>DRF_1_AutoML_20190715_012801                       </td><td style=\"text-align: right;\">             9.54066e+08</td><td style=\"text-align: right;\">30888  </td><td style=\"text-align: right;\">9.54066e+08</td><td style=\"text-align: right;\">18231.8</td><td style=\"text-align: right;\">0.150224</td></tr>\n",
       "<tr><td>DeepLearning_1_AutoML_20190715_012801              </td><td style=\"text-align: right;\">             9.69635e+08</td><td style=\"text-align: right;\">31139  </td><td style=\"text-align: right;\">9.69635e+08</td><td style=\"text-align: right;\">17541.4</td><td style=\"text-align: right;\">0.14747 </td></tr>\n",
       "<tr><td>XRT_1_AutoML_20190715_012801                       </td><td style=\"text-align: right;\">             9.94247e+08</td><td style=\"text-align: right;\">31531.7</td><td style=\"text-align: right;\">9.94247e+08</td><td style=\"text-align: right;\">18014.5</td><td style=\"text-align: right;\">0.149913</td></tr>\n",
       "<tr><td>GBM_5_AutoML_20190715_012801                       </td><td style=\"text-align: right;\">             1.09666e+09</td><td style=\"text-align: right;\">33115.9</td><td style=\"text-align: right;\">1.09666e+09</td><td style=\"text-align: right;\">19380.4</td><td style=\"text-align: right;\">0.155176</td></tr>\n",
       "<tr><td>GBM_grid_1_AutoML_20190715_012801_model_2          </td><td style=\"text-align: right;\">             1.22807e+09</td><td style=\"text-align: right;\">35043.9</td><td style=\"text-align: right;\">1.22807e+09</td><td style=\"text-align: right;\">20014.1</td><td style=\"text-align: right;\">0.161958</td></tr>\n",
       "<tr><td>DeepLearning_grid_1_AutoML_20190715_012801_model_1 </td><td style=\"text-align: right;\">             1.30266e+09</td><td style=\"text-align: right;\">36092.4</td><td style=\"text-align: right;\">1.30266e+09</td><td style=\"text-align: right;\">17299.9</td><td style=\"text-align: right;\">0.150195</td></tr>\n",
       "<tr><td>DeepLearning_grid_1_AutoML_20190715_012801_model_2 </td><td style=\"text-align: right;\">             1.53698e+09</td><td style=\"text-align: right;\">39204.3</td><td style=\"text-align: right;\">1.53698e+09</td><td style=\"text-align: right;\">24210.2</td><td style=\"text-align: right;\">0.197929</td></tr>\n",
       "<tr><td>XGBoost_grid_1_AutoML_20190715_012801_model_1      </td><td style=\"text-align: right;\">             2.64618e+09</td><td style=\"text-align: right;\">51441  </td><td style=\"text-align: right;\">2.64618e+09</td><td style=\"text-align: right;\">25079.9</td><td style=\"text-align: right;\">2.58027 </td></tr>\n",
       "<tr><td>StackedEnsemble_AllModels_AutoML_20190715_012801   </td><td style=\"text-align: right;\">             4.64413e+09</td><td style=\"text-align: right;\">68147.8</td><td style=\"text-align: right;\">4.64413e+09</td><td style=\"text-align: right;\">48788.7</td><td style=\"text-align: right;\">0.350306</td></tr>\n",
       "<tr><td>StackedEnsemble_BestOfFamily_AutoML_20190715_012801</td><td style=\"text-align: right;\">             5.77668e+09</td><td style=\"text-align: right;\">76004.4</td><td style=\"text-align: right;\">5.77668e+09</td><td style=\"text-align: right;\">54798.8</td><td style=\"text-align: right;\">0.389889</td></tr>\n",
       "<tr><td>GLM_grid_1_AutoML_20190715_012801_model_1          </td><td style=\"text-align: right;\">             6.3131e+09 </td><td style=\"text-align: right;\">79455  </td><td style=\"text-align: right;\">6.3131e+09 </td><td style=\"text-align: right;\">57444.3</td><td style=\"text-align: right;\">0.407765</td></tr>\n",
       "</tbody>\n",
       "</table>"
      ]
     },
     "metadata": {},
     "output_type": "display_data"
    },
    {
     "data": {
      "text/plain": []
     },
     "execution_count": 8,
     "metadata": {},
     "output_type": "execute_result"
    }
   ],
   "source": [
    "# View the AutoML Leaderboard\n",
    "lb = aml.leaderboard\n",
    "lb.head(rows=lb.nrows)  # Print all rows instead of default (10 rows)"
   ]
  },
  {
   "cell_type": "markdown",
   "metadata": {},
   "source": [
    "## ベストモデルを確認"
   ]
  },
  {
   "cell_type": "code",
   "execution_count": 9,
   "metadata": {
    "scrolled": false
   },
   "outputs": [
    {
     "name": "stdout",
     "output_type": "stream",
     "text": [
      "Model Details\n",
      "=============\n",
      "H2OGradientBoostingEstimator :  Gradient Boosting Machine\n",
      "Model Key:  GBM_1_AutoML_20190715_012801\n",
      "\n",
      "\n",
      "ModelMetricsRegression: gbm\n",
      "** Reported on train data. **\n",
      "\n",
      "MSE: 41052402.57322255\n",
      "RMSE: 6407.214884270898\n",
      "MAE: 4995.857408497432\n",
      "RMSLE: 0.04311340318589904\n",
      "Mean Residual Deviance: 41052402.57322255\n",
      "\n",
      "ModelMetricsRegression: gbm\n",
      "** Reported on cross-validation data. **\n",
      "\n",
      "MSE: 753422615.5850879\n",
      "RMSE: 27448.544871906925\n",
      "MAE: 16056.270211228577\n",
      "RMSLE: 0.1337297854297038\n",
      "Mean Residual Deviance: 753422615.5850879\n",
      "Cross-Validation Metrics Summary: \n"
     ]
    },
    {
     "data": {
      "text/html": [
       "<div style=\"overflow:auto\"><table style=\"width:50%\"><tr><td><b></b></td>\n",
       "<td><b>mean</b></td>\n",
       "<td><b>sd</b></td>\n",
       "<td><b>cv_1_valid</b></td>\n",
       "<td><b>cv_2_valid</b></td>\n",
       "<td><b>cv_3_valid</b></td>\n",
       "<td><b>cv_4_valid</b></td>\n",
       "<td><b>cv_5_valid</b></td></tr>\n",
       "<tr><td>mae</td>\n",
       "<td>16056.2705000</td>\n",
       "<td>1480.9053</td>\n",
       "<td>14757.253</td>\n",
       "<td>14945.403</td>\n",
       "<td>15797.7705000</td>\n",
       "<td>20163.762</td>\n",
       "<td>14617.163</td></tr>\n",
       "<tr><td>mean_residual_deviance</td>\n",
       "<td>753422590.0000000</td>\n",
       "<td>301819520.0000000</td>\n",
       "<td>443320224.0000000</td>\n",
       "<td>595100480.0000000</td>\n",
       "<td>630930750.0000000</td>\n",
       "<td>1596660740.0000000</td>\n",
       "<td>501100992.0000000</td></tr>\n",
       "<tr><td>mse</td>\n",
       "<td>753422590.0000000</td>\n",
       "<td>301819520.0000000</td>\n",
       "<td>443320224.0000000</td>\n",
       "<td>595100480.0000000</td>\n",
       "<td>630930750.0000000</td>\n",
       "<td>1596660740.0000000</td>\n",
       "<td>501100992.0000000</td></tr>\n",
       "<tr><td>r2</td>\n",
       "<td>0.8862734</td>\n",
       "<td>0.0314525</td>\n",
       "<td>0.9175487</td>\n",
       "<td>0.9060816</td>\n",
       "<td>0.896292</td>\n",
       "<td>0.7984728</td>\n",
       "<td>0.9129717</td></tr>\n",
       "<tr><td>residual_deviance</td>\n",
       "<td>753422590.0000000</td>\n",
       "<td>301819520.0000000</td>\n",
       "<td>443320224.0000000</td>\n",
       "<td>595100480.0000000</td>\n",
       "<td>630930750.0000000</td>\n",
       "<td>1596660740.0000000</td>\n",
       "<td>501100992.0000000</td></tr>\n",
       "<tr><td>rmse</td>\n",
       "<td>26582.342</td>\n",
       "<td>4837.444</td>\n",
       "<td>21055.172</td>\n",
       "<td>24394.682</td>\n",
       "<td>25118.334</td>\n",
       "<td>39958.24</td>\n",
       "<td>22385.285</td></tr>\n",
       "<tr><td>rmsle</td>\n",
       "<td>0.1324243</td>\n",
       "<td>0.0131807</td>\n",
       "<td>0.1370488</td>\n",
       "<td>0.1148687</td>\n",
       "<td>0.1317978</td>\n",
       "<td>0.1648491</td>\n",
       "<td>0.1135571</td></tr></table></div>"
      ],
      "text/plain": [
       "                        mean         sd          cv_1_valid    cv_2_valid    cv_3_valid    cv_4_valid    cv_5_valid\n",
       "----------------------  -----------  ----------  ------------  ------------  ------------  ------------  ------------\n",
       "mae                     16056.3      1480.91     14757.3       14945.4       15797.8       20163.8       14617.2\n",
       "mean_residual_deviance  7.53423e+08  3.0182e+08  4.4332e+08    5.951e+08     6.30931e+08   1.59666e+09   5.01101e+08\n",
       "mse                     7.53423e+08  3.0182e+08  4.4332e+08    5.951e+08     6.30931e+08   1.59666e+09   5.01101e+08\n",
       "r2                      0.886273     0.0314525   0.917549      0.906082      0.896292      0.798473      0.912972\n",
       "residual_deviance       7.53423e+08  3.0182e+08  4.4332e+08    5.951e+08     6.30931e+08   1.59666e+09   5.01101e+08\n",
       "rmse                    26582.3      4837.44     21055.2       24394.7       25118.3       39958.2       22385.3\n",
       "rmsle                   0.132424     0.0131807   0.137049      0.114869      0.131798      0.164849      0.113557"
      ]
     },
     "metadata": {},
     "output_type": "display_data"
    },
    {
     "name": "stdout",
     "output_type": "stream",
     "text": [
      "Scoring History: \n"
     ]
    },
    {
     "data": {
      "text/html": [
       "<div style=\"overflow:auto\"><table style=\"width:50%\"><tr><td><b></b></td>\n",
       "<td><b>timestamp</b></td>\n",
       "<td><b>duration</b></td>\n",
       "<td><b>number_of_trees</b></td>\n",
       "<td><b>training_rmse</b></td>\n",
       "<td><b>training_mae</b></td>\n",
       "<td><b>training_deviance</b></td></tr>\n",
       "<tr><td></td>\n",
       "<td>2019-07-15 01:28:49</td>\n",
       "<td> 4.063 sec</td>\n",
       "<td>0.0</td>\n",
       "<td>79415.2918861</td>\n",
       "<td>57434.7702758</td>\n",
       "<td>6306788585.3492975</td></tr>\n",
       "<tr><td></td>\n",
       "<td>2019-07-15 01:28:50</td>\n",
       "<td> 4.111 sec</td>\n",
       "<td>5.0</td>\n",
       "<td>50801.4473051</td>\n",
       "<td>36592.0912136</td>\n",
       "<td>2580787048.2924409</td></tr>\n",
       "<tr><td></td>\n",
       "<td>2019-07-15 01:28:50</td>\n",
       "<td> 4.157 sec</td>\n",
       "<td>10.0</td>\n",
       "<td>33521.6502579</td>\n",
       "<td>24096.9044253</td>\n",
       "<td>1123701036.0146003</td></tr>\n",
       "<tr><td></td>\n",
       "<td>2019-07-15 01:28:50</td>\n",
       "<td> 4.205 sec</td>\n",
       "<td>15.0</td>\n",
       "<td>23155.6130229</td>\n",
       "<td>16781.2196062</td>\n",
       "<td>536182414.4644392</td></tr>\n",
       "<tr><td></td>\n",
       "<td>2019-07-15 01:28:50</td>\n",
       "<td> 4.251 sec</td>\n",
       "<td>20.0</td>\n",
       "<td>16995.8658672</td>\n",
       "<td>12543.8186002</td>\n",
       "<td>288859456.5748259</td></tr>\n",
       "<tr><td></td>\n",
       "<td>2019-07-15 01:28:50</td>\n",
       "<td> 4.299 sec</td>\n",
       "<td>25.0</td>\n",
       "<td>13238.2017329</td>\n",
       "<td>9962.1255886</td>\n",
       "<td>175249985.1219675</td></tr>\n",
       "<tr><td></td>\n",
       "<td>2019-07-15 01:28:50</td>\n",
       "<td> 4.347 sec</td>\n",
       "<td>30.0</td>\n",
       "<td>11030.2277795</td>\n",
       "<td>8410.2585376</td>\n",
       "<td>121665924.8676250</td></tr>\n",
       "<tr><td></td>\n",
       "<td>2019-07-15 01:28:50</td>\n",
       "<td> 4.402 sec</td>\n",
       "<td>35.0</td>\n",
       "<td>9597.3376108</td>\n",
       "<td>7404.6484857</td>\n",
       "<td>92108889.2162467</td></tr>\n",
       "<tr><td></td>\n",
       "<td>2019-07-15 01:28:50</td>\n",
       "<td> 4.458 sec</td>\n",
       "<td>40.0</td>\n",
       "<td>8545.0247454</td>\n",
       "<td>6642.6944001</td>\n",
       "<td>73017447.8993831</td></tr>\n",
       "<tr><td></td>\n",
       "<td>2019-07-15 01:28:50</td>\n",
       "<td> 4.510 sec</td>\n",
       "<td>45.0</td>\n",
       "<td>7790.7418940</td>\n",
       "<td>6071.2736194</td>\n",
       "<td>60695659.2592682</td></tr>\n",
       "<tr><td></td>\n",
       "<td>2019-07-15 01:28:50</td>\n",
       "<td> 4.561 sec</td>\n",
       "<td>50.0</td>\n",
       "<td>7219.6742017</td>\n",
       "<td>5639.9854532</td>\n",
       "<td>52123695.5793205</td></tr>\n",
       "<tr><td></td>\n",
       "<td>2019-07-15 01:28:50</td>\n",
       "<td> 4.600 sec</td>\n",
       "<td>55.0</td>\n",
       "<td>6819.3736402</td>\n",
       "<td>5318.2507277</td>\n",
       "<td>46503856.8440316</td></tr>\n",
       "<tr><td></td>\n",
       "<td>2019-07-15 01:28:50</td>\n",
       "<td> 4.639 sec</td>\n",
       "<td>60.0</td>\n",
       "<td>6447.2135710</td>\n",
       "<td>5033.4400417</td>\n",
       "<td>41566562.8297101</td></tr>\n",
       "<tr><td></td>\n",
       "<td>2019-07-15 01:28:50</td>\n",
       "<td> 4.647 sec</td>\n",
       "<td>61.0</td>\n",
       "<td>6407.2148843</td>\n",
       "<td>4995.8574085</td>\n",
       "<td>41052402.5732225</td></tr></table></div>"
      ],
      "text/plain": [
       "    timestamp            duration    number_of_trees    training_rmse    training_mae    training_deviance\n",
       "--  -------------------  ----------  -----------------  ---------------  --------------  -------------------\n",
       "    2019-07-15 01:28:49  4.063 sec   0                  79415.3          57434.8         6.30679e+09\n",
       "    2019-07-15 01:28:50  4.111 sec   5                  50801.4          36592.1         2.58079e+09\n",
       "    2019-07-15 01:28:50  4.157 sec   10                 33521.7          24096.9         1.1237e+09\n",
       "    2019-07-15 01:28:50  4.205 sec   15                 23155.6          16781.2         5.36182e+08\n",
       "    2019-07-15 01:28:50  4.251 sec   20                 16995.9          12543.8         2.88859e+08\n",
       "    2019-07-15 01:28:50  4.299 sec   25                 13238.2          9962.13         1.7525e+08\n",
       "    2019-07-15 01:28:50  4.347 sec   30                 11030.2          8410.26         1.21666e+08\n",
       "    2019-07-15 01:28:50  4.402 sec   35                 9597.34          7404.65         9.21089e+07\n",
       "    2019-07-15 01:28:50  4.458 sec   40                 8545.02          6642.69         7.30174e+07\n",
       "    2019-07-15 01:28:50  4.510 sec   45                 7790.74          6071.27         6.06957e+07\n",
       "    2019-07-15 01:28:50  4.561 sec   50                 7219.67          5639.99         5.21237e+07\n",
       "    2019-07-15 01:28:50  4.600 sec   55                 6819.37          5318.25         4.65039e+07\n",
       "    2019-07-15 01:28:50  4.639 sec   60                 6447.21          5033.44         4.15666e+07\n",
       "    2019-07-15 01:28:50  4.647 sec   61                 6407.21          4995.86         4.10524e+07"
      ]
     },
     "metadata": {},
     "output_type": "display_data"
    },
    {
     "name": "stdout",
     "output_type": "stream",
     "text": [
      "Variable Importances: \n"
     ]
    },
    {
     "data": {
      "text/html": [
       "<div style=\"overflow:auto\"><table style=\"width:50%\"><tr><td><b>variable</b></td>\n",
       "<td><b>relative_importance</b></td>\n",
       "<td><b>scaled_importance</b></td>\n",
       "<td><b>percentage</b></td></tr>\n",
       "<tr><td>OverallQual</td>\n",
       "<td>13735081017344.0000000</td>\n",
       "<td>1.0</td>\n",
       "<td>0.3104439</td></tr>\n",
       "<tr><td>ExterQual</td>\n",
       "<td>5325213138944.0000000</td>\n",
       "<td>0.3877089</td>\n",
       "<td>0.1203618</td></tr>\n",
       "<tr><td>GarageCars</td>\n",
       "<td>4429998194688.0000000</td>\n",
       "<td>0.3225316</td>\n",
       "<td>0.1001280</td></tr>\n",
       "<tr><td>GrLivArea</td>\n",
       "<td>4055887249408.0000000</td>\n",
       "<td>0.2952940</td>\n",
       "<td>0.0916722</td></tr>\n",
       "<tr><td>Neighborhood</td>\n",
       "<td>3963175305216.0000000</td>\n",
       "<td>0.2885440</td>\n",
       "<td>0.0895767</td></tr>\n",
       "<tr><td>---</td>\n",
       "<td>---</td>\n",
       "<td>---</td>\n",
       "<td>---</td></tr>\n",
       "<tr><td>Heating</td>\n",
       "<td>424165088.0000000</td>\n",
       "<td>0.0000309</td>\n",
       "<td>0.0000096</td></tr>\n",
       "<tr><td>MiscVal</td>\n",
       "<td>284881792.0000000</td>\n",
       "<td>0.0000207</td>\n",
       "<td>0.0000064</td></tr>\n",
       "<tr><td>MiscFeature</td>\n",
       "<td>273137984.0000000</td>\n",
       "<td>0.0000199</td>\n",
       "<td>0.0000062</td></tr>\n",
       "<tr><td>Street</td>\n",
       "<td>0.0</td>\n",
       "<td>0.0</td>\n",
       "<td>0.0</td></tr>\n",
       "<tr><td>Utilities</td>\n",
       "<td>0.0</td>\n",
       "<td>0.0</td>\n",
       "<td>0.0</td></tr></table></div>"
      ],
      "text/plain": [
       "variable      relative_importance    scaled_importance       percentage\n",
       "------------  ---------------------  ----------------------  ---------------------\n",
       "OverallQual   13735081017344.0       1.0                     0.3104438522987447\n",
       "ExterQual     5325213138944.0        0.3877088990024578      0.12036184417682794\n",
       "GarageCars    4429998194688.0        0.322531639172278       0.1001279645528707\n",
       "GrLivArea     4055887249408.0        0.2952940171438684      0.09167221224291405\n",
       "Neighborhood  3963175305216.0        0.28854400641769007     0.08957671291002142\n",
       "---           ---                    ---                     ---\n",
       "Heating       424165088.0            3.0881877395873e-05     9.587088984992341e-06\n",
       "MiscVal       284881792.0            2.074118031340805e-05   6.43897191771728e-06\n",
       "MiscFeature   273137984.0            1.9886157471884913e-05  6.173535332991418e-06\n",
       "Street        0.0                    0.0                     0.0\n",
       "Utilities     0.0                    0.0                     0.0"
      ]
     },
     "metadata": {},
     "output_type": "display_data"
    },
    {
     "name": "stdout",
     "output_type": "stream",
     "text": [
      "\n",
      "See the whole table with table.as_data_frame()\n"
     ]
    },
    {
     "data": {
      "text/plain": []
     },
     "execution_count": 9,
     "metadata": {},
     "output_type": "execute_result"
    }
   ],
   "source": [
    "aml.leader"
   ]
  },
  {
   "cell_type": "code",
   "execution_count": 10,
   "metadata": {
    "scrolled": false
   },
   "outputs": [
    {
     "data": {
      "image/png": "[encoded data removed]",
      "text/plain": [
       "<Figure size 1008x720 with 1 Axes>"
      ]
     },
     "metadata": {},
     "output_type": "display_data"
    }
   ],
   "source": [
    "%matplotlib inline\n",
    "aml.leader.varimp_plot()"
   ]
  },
  {
   "cell_type": "markdown",
   "metadata": {},
   "source": [
    "## 予測する"
   ]
  },
  {
   "cell_type": "code",
   "execution_count": 11,
   "metadata": {},
   "outputs": [
    {
     "name": "stdout",
     "output_type": "stream",
     "text": [
      "gbm prediction progress: |████████████████████████████████████████████████| 100%\n"
     ]
    },
    {
     "name": "stderr",
     "output_type": "stream",
     "text": [
      "/Users/ykatada/anaconda3/lib/python3.6/site-packages/h2o/job.py:69: UserWarning: Test/Validation dataset column 'MSZoning' has levels not trained on: [NA]\n",
      "  warnings.warn(w)\n",
      "/Users/ykatada/anaconda3/lib/python3.6/site-packages/h2o/job.py:69: UserWarning: Test/Validation dataset column 'Utilities' has levels not trained on: [NA]\n",
      "  warnings.warn(w)\n",
      "/Users/ykatada/anaconda3/lib/python3.6/site-packages/h2o/job.py:69: UserWarning: Test/Validation dataset column 'Exterior1st' has levels not trained on: [NA]\n",
      "  warnings.warn(w)\n",
      "/Users/ykatada/anaconda3/lib/python3.6/site-packages/h2o/job.py:69: UserWarning: Test/Validation dataset column 'Exterior2nd' has levels not trained on: [NA]\n",
      "  warnings.warn(w)\n",
      "/Users/ykatada/anaconda3/lib/python3.6/site-packages/h2o/job.py:69: UserWarning: Test/Validation dataset column 'KitchenQual' has levels not trained on: [NA]\n",
      "  warnings.warn(w)\n",
      "/Users/ykatada/anaconda3/lib/python3.6/site-packages/h2o/job.py:69: UserWarning: Test/Validation dataset column 'Functional' has levels not trained on: [NA]\n",
      "  warnings.warn(w)\n",
      "/Users/ykatada/anaconda3/lib/python3.6/site-packages/h2o/job.py:69: UserWarning: Test/Validation dataset column 'SaleType' has levels not trained on: [NA]\n",
      "  warnings.warn(w)\n"
     ]
    }
   ],
   "source": [
    "preds = aml.predict(test)"
   ]
  },
  {
   "cell_type": "code",
   "execution_count": 12,
   "metadata": {},
   "outputs": [
    {
     "data": {
      "text/html": [
       "<table>\n",
       "<thead>\n",
       "<tr><th style=\"text-align: right;\">  predict</th></tr>\n",
       "</thead>\n",
       "<tbody>\n",
       "<tr><td style=\"text-align: right;\">   125540</td></tr>\n",
       "<tr><td style=\"text-align: right;\">   152217</td></tr>\n",
       "<tr><td style=\"text-align: right;\">   186232</td></tr>\n",
       "<tr><td style=\"text-align: right;\">   187708</td></tr>\n",
       "<tr><td style=\"text-align: right;\">   187411</td></tr>\n",
       "<tr><td style=\"text-align: right;\">   181035</td></tr>\n",
       "<tr><td style=\"text-align: right;\">   163197</td></tr>\n",
       "<tr><td style=\"text-align: right;\">   173417</td></tr>\n",
       "<tr><td style=\"text-align: right;\">   182572</td></tr>\n",
       "<tr><td style=\"text-align: right;\">   126506</td></tr>\n",
       "</tbody>\n",
       "</table>"
      ]
     },
     "metadata": {},
     "output_type": "display_data"
    },
    {
     "data": {
      "text/plain": []
     },
     "execution_count": 12,
     "metadata": {},
     "output_type": "execute_result"
    }
   ],
   "source": [
    "preds"
   ]
  },
  {
   "cell_type": "code",
   "execution_count": 13,
   "metadata": {},
   "outputs": [],
   "source": [
    "test[\"SalePrice\"] = preds"
   ]
  },
  {
   "cell_type": "code",
   "execution_count": 14,
   "metadata": {},
   "outputs": [
    {
     "name": "stdout",
     "output_type": "stream",
     "text": [
      "Export File progress: |███████████████████████████████████████████████████| 100%\n"
     ]
    }
   ],
   "source": [
    "h2o.export_file(test[[\"Id\", \"SalePrice\"]], path=\"submission.csv\")"
   ]
  },
  {
   "cell_type": "markdown",
   "metadata": {},
   "source": [
    "## submission"
   ]
  },
  {
   "cell_type": "markdown",
   "metadata": {},
   "source": [
    "<img src=\"H2O_kaggle_submission.png\"></img>"
   ]
  },
  {
   "cell_type": "code",
   "execution_count": null,
   "metadata": {},
   "outputs": [],
   "source": []
  }
 ],
 "metadata": {
  "kernelspec": {
   "display_name": "Python 3",
   "language": "python",
   "name": "python3"
  },
  "language_info": {
   "codemirror_mode": {
    "name": "ipython",
    "version": 3
   },
   "file_extension": ".py",
   "mimetype": "text/x-python",
   "name": "python",
   "nbconvert_exporter": "python",
   "pygments_lexer": "ipython3",
   "version": "3.6.4"
  }
 },
 "nbformat": 4,
 "nbformat_minor": 2
}
